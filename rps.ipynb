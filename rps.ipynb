{
 "cells": [
  {
   "cell_type": "code",
   "execution_count": null,
   "id": "2b176bd5",
   "metadata": {},
   "outputs": [],
   "source": [
    "#import useful packages first, numpy will be my crucial one since\n",
    "#I have experience with it and it's pretty useful\n",
    "import numpy as np"
   ]
  },
  {
   "cell_type": "code",
   "execution_count": 15,
   "id": "ff233350",
   "metadata": {},
   "outputs": [],
   "source": [
    "#next, define useful variables to use later on. still in the prep phase\n",
    "\n",
    "diff = np.array([1, 2, 3])\n",
    "#defines the difficulty as an integer, this will be used to select which robot/difficulty\n",
    "#to play against and return. Rock, paper, and scissors will be represented with integers for\n",
    "#numerical comparisons\n",
    "\n",
    "easy = np.array([1, 2, 3])\n",
    "hard = np.array([1, 2, 3])\n",
    "normal = np.array([1, 2, 3])\n",
    "#defines the difficulties has all consisting of rock, paper, and scissors\n",
    "\n",
    "userdiff = input(\"Difficulty? Easy=1, Normal=2, Impossible=3\")\n",
    "#userdiff = [float[integ] for integ in diff_ask]\n",
    "# ^^^ old recommended attempt at the float, assumes no straight response. I do for simplicity\n",
    "#now define the user's choice of difficulty\n",
    "\n",
    "userthrow = input(\"Throw? Rock=1, Paper=2, Scissors=3\")\n",
    "#now define the user's choice between rock, paper, and scissors"
   ]
  },
  {
   "cell_type": "code",
   "execution_count": 22,
   "id": "c3db1a1e",
   "metadata": {},
   "outputs": [],
   "source": [
    "#now for the actual logic of the game. This might be a bit clunky, but my idea was to\n",
    "#run ALL difficulties simultaneously and then simply output the result the user chooses\n",
    "#as I could define the difficulties and their choices within each if perhaps,\n",
    "#but gotta start somewhere\n",
    "\n",
    "if userdiff == 1:\n",
    "    #this is easy difficulty, where the program always loses\n",
    "    #this will be done by picking the number LOWER than userthrow\n",
    "    test = \"heyyyyy, im testing here!!!!!\"\n",
    "\n",
    "elif userdiff == 2:\n",
    "    #this is normal difficulty, where the program randomly picks a choice\n",
    "    ran = np.random.randint(1,3)\n",
    "    #if ran < userthrow\n",
    "        \n",
    "\n",
    "elif userdiff == 3:\n",
    "   #this is impossible difficulty, where the program always wins\n",
    "   #this will be done by picking the number HIGHER than userthrow\n",
    "   test2 = \"oi! im testing in front ofa tesco here!!!!\"\n",
    "    \n"
   ]
  }
 ],
 "metadata": {
  "kernelspec": {
   "display_name": "base",
   "language": "python",
   "name": "python3"
  },
  "language_info": {
   "codemirror_mode": {
    "name": "ipython",
    "version": 3
   },
   "file_extension": ".py",
   "mimetype": "text/x-python",
   "name": "python",
   "nbconvert_exporter": "python",
   "pygments_lexer": "ipython3",
   "version": "3.12.4"
  }
 },
 "nbformat": 4,
 "nbformat_minor": 5
}
