{
 "cells": [
  {
   "cell_type": "code",
   "execution_count": 75,
   "id": "2b176bd5",
   "metadata": {},
   "outputs": [],
   "source": [
    "#import useful packages first, numpy will be my crucial one since\n",
    "#I have experience with it and it's pretty useful\n",
    "import numpy as np"
   ]
  },
  {
   "cell_type": "code",
   "execution_count": 116,
   "id": "ff233350",
   "metadata": {},
   "outputs": [],
   "source": [
    "#next, define useful variables to use later on. still in the prep phase\n",
    "\n",
    "diff = np.array([1, 2, 3])\n",
    "#defines the difficulty as an integer, this will be used to select which robot/difficulty\n",
    "#to play against and return. Rock, paper, and scissors will be represented with integers for\n",
    "#numerical comparisons\n",
    "\n",
    "easy = np.array([1, 2, 3])\n",
    "hard = np.array([1, 2, 3])\n",
    "normal = np.array([1, 2, 3])\n",
    "#defines the difficulties has all consisting of rock, paper, and scissors\n",
    "\n",
    "userdiffstr = input(\"Difficulty? Easy=1, Normal=2, Impossible=3\")\n",
    "userdiff = int(userdiffstr)\n",
    "#now define the user's choice of difficulty, converting from string to integer\n",
    "\n",
    "userthrowstr = input(\"Throw? Rock=1, Paper=2, Scissors=3\")\n",
    "userthrow = int(userthrowstr)\n",
    "#now define the user's choice between rock, paper, and scissors, again converting\n",
    "#from string to integer for comparing\n",
    "\n",
    "throwdict = {1:\"Rock\", 2:\"Paper\", 3:\"Scissors\"}\n",
    "#define a list to return the throws and choices of the user and program"
   ]
  },
  {
   "cell_type": "code",
   "execution_count": 119,
   "id": "c3db1a1e",
   "metadata": {},
   "outputs": [
    {
     "name": "stdout",
     "output_type": "stream",
     "text": [
      "User: Rock\n",
      "Program: Scissors\n",
      "User wins!\n"
     ]
    }
   ],
   "source": [
    "#now for the actual logic of the game. This might be a bit clunky, but my idea was to\n",
    "#run ALL difficulties simultaneously and then simply output the result the user chooses\n",
    "#as I could define the difficulties and their choices within each if perhaps,\n",
    "#but gotta start somewhere\n",
    "\n",
    "print(\"User: \" + throwdict[userthrow])\n",
    "\n",
    "if userdiff == 1:\n",
    "    #this is easy difficulty, where the program always loses\n",
    "    #this will be done by picking the number LOWER than userthrow\n",
    "    if userthrow == 1:\n",
    "        print(\"Program: Scissors\")\n",
    "    elif userthrow == 2:\n",
    "        print(\"Program: Rock\")\n",
    "    elif userthrow == 3:\n",
    "        print(\"Program: Paper\")\n",
    "    print(\"User wins!\")\n",
    "\n",
    "elif userdiff == 2:\n",
    "    #this is normal difficulty, where the program randomly picks a choice\n",
    "    ran = np.random.randint(1,4)\n",
    "    print(\"Program: \" + throwdict[ran])\n",
    "    if ran == userthrow:\n",
    "        print(\"Tie!\")\n",
    "    elif ran < userthrow or ran == 3 and userthrow == 1:\n",
    "        print(\"User wins!\")\n",
    "        #Since I set up the numbers such that higher numbers \"win\" the game, except\n",
    "        #for rock and scissors, but thankfully the or seems to delineate more than\n",
    "        #the and conjoiner\n",
    "    else:\n",
    "        print(\"Program wins!\")\n",
    "        \n",
    "\n",
    "elif userdiff == 3:\n",
    "   #this is impossible difficulty, where the program always wins\n",
    "   #this will be done by picking the number HIGHER than userthrow\n",
    "   test2 = \"oi! im testing in front ofa tesco here!!!!\"\n",
    "   print(test2)\n",
    "    \n"
   ]
  },
  {
   "cell_type": "code",
   "execution_count": 78,
   "id": "9aaf78dc",
   "metadata": {},
   "outputs": [
    {
     "name": "stdout",
     "output_type": "stream",
     "text": [
      "ahh!\n",
      "2\n",
      "2\n"
     ]
    },
    {
     "data": {
      "text/plain": [
       "str"
      ]
     },
     "execution_count": 78,
     "metadata": {},
     "output_type": "execute_result"
    }
   ],
   "source": [
    "if 1 == 1:\n",
    "    print(\"ahh!\")\n",
    "    print(userthrow)\n",
    "\n",
    "print(userdiff)\n",
    "type(userthrow)\n",
    "type(userdiff)\n",
    "type(userdiffstr)\n",
    "type(userthrowstr)\n",
    "\n",
    "#use IPython.display.display for alternate showing methods?\n"
   ]
  }
 ],
 "metadata": {
  "kernelspec": {
   "display_name": "base",
   "language": "python",
   "name": "python3"
  },
  "language_info": {
   "codemirror_mode": {
    "name": "ipython",
    "version": 3
   },
   "file_extension": ".py",
   "mimetype": "text/x-python",
   "name": "python",
   "nbconvert_exporter": "python",
   "pygments_lexer": "ipython3",
   "version": "3.12.4"
  }
 },
 "nbformat": 4,
 "nbformat_minor": 5
}
